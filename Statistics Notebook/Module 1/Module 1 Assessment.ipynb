{
 "cells": [
  {
   "cell_type": "code",
   "execution_count": 78,
   "id": "2cef7661-59ca-4699-992d-b6d58992699e",
   "metadata": {},
   "outputs": [],
   "source": [
    "import statistics as stat\n",
    "import pandas as pd"
   ]
  },
  {
   "cell_type": "markdown",
   "id": "1362a898-980e-4913-af0f-0c7035d94328",
   "metadata": {},
   "source": [
    "What is an appropriate way to visualize a list of the eye colors of 120 people? Select all that apply.\n",
    "\n",
    "pie chart  --tick\n",
    "box plot\n",
    "dot plot  -- tick"
   ]
  },
  {
   "cell_type": "markdown",
   "id": "46c689dc-cb64-4a7c-b112-393862efe23e",
   "metadata": {},
   "source": [
    "Question 2\n",
    "According to the histogram of travel times to work from the US 2000 census (Page 6 of \"Journey to Work: 2000\")\n",
    ", roughly what percentage of commuters travel more than 45 minutes?\n",
    "\n",
    "ANSWER: 12.5"
   ]
  },
  {
   "cell_type": "markdown",
   "id": "4bcba4d4-5068-4281-af71-0cc8e3c8d73d",
   "metadata": {},
   "source": [
    "According to the histogram of travel times to work from the US 2000 census (Page 6 of \"Journey to Work: 2000\")\n",
    ", approximately what is the median travel time, in minutes (i.e. 50% of commuters have at most that travel time, 50% have at least that travel time)?\n",
    "\n",
    "ANSWER: 22"
   ]
  },
  {
   "cell_type": "markdown",
   "id": "40549422-ccce-4b25-b63f-3de315b8994c",
   "metadata": {},
   "source": [
    "Question 4\r\n",
    "You want to investigate whether households in California tend to have a higher income than households in Massachussetts. Which summary measure would you use to compare the two states?\n",
    "\r\n",
    "\r\n",
    "3rd quartile of household \r\n",
    "\r\n",
    "\r\n",
    "\r\n",
    "median househ    -- ANSWERcome\r\n",
    "\r\n",
    "\r\n",
    "\r\n",
    "mean housre of your data."
   ]
  },
  {
   "cell_type": "markdown",
   "id": "76e2b5ce-eeca-41bb-bd51-f6d4fe85d696",
   "metadata": {},
   "source": [
    "Question 5\r\n",
    "Suppose all household incomes in California increase by 5%. How does that change the mean household income?\r\n",
    "\r\n",
    "\r\n",
    "the mean household income goes y 5u -- ANSWER%\r\n",
    "\r\n",
    "\r\n",
    "\r\n",
    "the mean household incomt ce doehange\r\n",
    "\r\n",
    "\r\n",
    "\r\n",
    "cannot be determined frmation givenot's correct."
   ]
  },
  {
   "cell_type": "code",
   "execution_count": 60,
   "id": "2c754186-3c8a-47cf-9622-84775156fc0e",
   "metadata": {
    "jupyter": {
     "source_hidden": true
    }
   },
   "outputs": [
    {
     "name": "stdout",
     "output_type": "stream",
     "text": [
      "mean of numbers: 15.8\n",
      "mean of increased numbers by 5%: 16.59\n",
      "15.8 * 1.05 = 16.59\n"
     ]
    }
   ],
   "source": [
    "numbers = [7, 18, 12, 23, 19]\n",
    "increased = [num * 1.05 for num in numbers]\n",
    "\n",
    "mean_numbers = stat.mean(numbers)\n",
    "mean_increased = stat.mean(increased)\n",
    "\n",
    "\n",
    "print(f'mean of numbers: {mean_numbers}')\n",
    "print(f'mean of increased numbers by 5%: {stat.mean(increased)}')\n",
    "\n",
    "if mean_numbers * 1.05 == mean_increased:\n",
    "    print(f'{mean_numbers} * {1.05} = {mean_numbers * 1.05}')\n",
    "else:\n",
    "    print(f'All data increased by 5% does not necessarily increases the mean also by 5%')"
   ]
  },
  {
   "cell_type": "markdown",
   "id": "b547e8de-91ac-454e-b38a-55c9345ec9cf",
   "metadata": {},
   "source": [
    "Question 6\r\n",
    "Suppose all household incomes in California increase by 5%. How does that change the median household income?\n",
    "\r\n",
    "\r\n",
    "cannot be determined from the informan given\r\n",
    "\r\n",
    "\r\n",
    "\r\n",
    "median household incs byANS -- ANSWERy 5%\r\n",
    "\r\n",
    "\r\n",
    "\r\n",
    "the median householesnt change correct.\r\n",
    "\r\n"
   ]
  },
  {
   "cell_type": "code",
   "execution_count": 74,
   "id": "d71c62f3-ea33-4d38-95a2-9b8cdba8ee99",
   "metadata": {
    "jupyter": {
     "source_hidden": true
    }
   },
   "outputs": [
    {
     "name": "stdout",
     "output_type": "stream",
     "text": [
      "median of numbers: 18\n",
      "median of increased: 18.900000000000002\n",
      "median of numbers * 1.05 = 18.900000000000002\n"
     ]
    }
   ],
   "source": [
    "median_numbers = stat.median(numbers)\n",
    "median_increased = stat.median(increased)\n",
    "\n",
    "print(f'median of numbers: {median_numbers}')\n",
    "print(f'median of increased: {median_increased}')\n",
    "print(f'median of numbers * 1.05 = {median_numbers * 1.05}')"
   ]
  },
  {
   "cell_type": "markdown",
   "id": "9af8e8b2-22b3-4568-8065-9e69c2e32302",
   "metadata": {},
   "source": [
    "Suppose all household incomes in California increase by 5%. How does that change the standard deviation of the household incomes?\r\n",
    "\r\n",
    "\r\n",
    "cannot be determined from the informationven\r\n",
    "\r\n",
    "\r\n",
    "\r\n",
    "the standard deviation of the household incomesp bygoe -- ANSWERy 5%\r\n",
    "\r\n",
    "\r\n",
    "\r\n",
    "the standard deviation of the household snt change's correct."
   ]
  },
  {
   "cell_type": "markdown",
   "id": "59e5f9ab-f278-49b8-b3f5-f1514aca0135",
   "metadata": {},
   "source": [
    "Suppose all household incomes in California increase by 5%. How does that change the interquartile range of the household incomes?\n",
    "\n",
    "the interquartile range of the household incomes doesn't change\n",
    "the interquartile range of the household incomes goes up by 5% -- ANSWER\n",
    "cannot be determined from the information given"
   ]
  },
  {
   "cell_type": "code",
   "execution_count": 135,
   "id": "603c866f-b71a-4ebb-a910-b458d0a562b9",
   "metadata": {
    "jupyter": {
     "source_hidden": true
    }
   },
   "outputs": [
    {
     "name": "stdout",
     "output_type": "stream",
     "text": [
      "Data interquartile range:  7.0\n",
      "Increased Data interquartile range:  7.349999999999998\n",
      "OGdata * 1.05 =  7.3500000000000005\n"
     ]
    }
   ],
   "source": [
    "data = pd.Series(numbers) #using pandas\n",
    "increased =pd.Series(num * 1.05 for num in numbers)\n",
    "\n",
    "# Calculate Q1 and Q3\n",
    "Q1 = data.quantile(0.25)\n",
    "Q3 = data.quantile(0.75)\n",
    "IQR = Q3 - Q1\n",
    "print(\"Data interquartile range: \", IQR)\n",
    "\n",
    "incQ1 = increased.quantile(0.25)\n",
    "incQ3 = increased.quantile(0.75)\n",
    "increased_IQR = incQ3 - incQ1\n",
    "print (\"Increased Data interquartile range: \",increased_IQR)\n",
    "print(\"OGdata * 1.05 = \", IQR * 1.05)"
   ]
  },
  {
   "cell_type": "markdown",
   "id": "a94801a1-104f-4903-80de-83ce1f723815",
   "metadata": {},
   "source": [
    "Suppose all household incomes in California increase by $5,000. How does that change the mean household income?\r\n",
    "\r\n",
    "\r\n",
    "cannot be determined from the informationven\r\n",
    "\r\n",
    "\r\n",
    "\r\n",
    "the mean household income goe 5 up -- ANSWER,000\r\n",
    "\r\n",
    "\r\n",
    "\r\n",
    "the mean household nt change's correct."
   ]
  },
  {
   "cell_type": "code",
   "execution_count": 147,
   "id": "a1782284-d713-4a8f-b4ef-3055775323ba",
   "metadata": {
    "jupyter": {
     "source_hidden": true
    }
   },
   "outputs": [
    {
     "name": "stdout",
     "output_type": "stream",
     "text": [
      "15.8\n",
      "45.8\n",
      "29.999999999999996\n"
     ]
    }
   ],
   "source": [
    "increased = [num + 30 for num in numbers]\n",
    "\n",
    "print(stat.mean(numbers))\n",
    "print(stat.mean(increased))\n",
    "print(stat.mean(increased)-stat.mean(numbers))"
   ]
  },
  {
   "cell_type": "markdown",
   "id": "3507b150-2637-4b7a-ac7a-6c1f5707a576",
   "metadata": {},
   "source": [
    "Question 10\r\n",
    "Suppose all household incomes in California increase by $5,000. How does that change the median household income?\r\n",
    "\r\n",
    "\r\n",
    "the median household income goes up by00 -- ANSWER0\r\n",
    "\r\n",
    "\r\n",
    "\r\n",
    "cannot be determined from the ion nformgiven\r\n",
    "\r\n",
    "\r\n",
    "\r\n",
    "the median household income doesnt changet's correct."
   ]
  },
  {
   "cell_type": "code",
   "execution_count": 151,
   "id": "325ec184-4512-4a06-8b4b-20fe3f0443fd",
   "metadata": {
    "jupyter": {
     "source_hidden": true
    }
   },
   "outputs": [
    {
     "name": "stdout",
     "output_type": "stream",
     "text": [
      "18\n",
      "48\n",
      "30\n"
     ]
    }
   ],
   "source": [
    "print(stat.median(numbers))\n",
    "print(stat.median(increased))\n",
    "print(stat.median(increased)-stat.median(numbers))"
   ]
  },
  {
   "cell_type": "markdown",
   "id": "346aae3d-9bc7-40a7-9aff-524e0bd4c266",
   "metadata": {},
   "source": [
    "Suppose all household incomes in California increase by $5,000. How does that change the standard deviation of the household incomes?\n",
    "\n",
    "\n",
    "the standard deviation of the household incomes doesn't change -- ANSWER // kapag changed by constant hindi nagbabago, same sa Interquartile Range\n",
    "cannot be determined from the information given\n",
    "the standard deviation of the household incomes goes up by $5,000 "
   ]
  },
  {
   "cell_type": "code",
   "execution_count": 170,
   "id": "164da1a1-05f6-4d66-a7bb-8c799f5e1458",
   "metadata": {
    "jupyter": {
     "source_hidden": true
    }
   },
   "outputs": [
    {
     "name": "stdout",
     "output_type": "stream",
     "text": [
      "[7, 18, 12, 23, 19]\n",
      "6.300793600809346\n",
      "5.635601121442148\n",
      "\n",
      "[37, 48, 42, 53, 49]\n",
      "6.300793600809346\n",
      "5.635601121442148\n"
     ]
    }
   ],
   "source": [
    "print(numbers)\n",
    "print(stat.stdev(numbers)) # sample standard deviation\n",
    "print(stat.pstdev(numbers)) # population standard deviation\n",
    "print()\n",
    "\n",
    "print(increased)\n",
    "print(stat.stdev(increased)) # sample standard deviation\n",
    "print(stat.pstdev(increased)) # population standard deviation"
   ]
  },
  {
   "cell_type": "markdown",
   "id": "9d047673-7a33-4fa3-8a0e-d46d347b8286",
   "metadata": {},
   "source": [
    "Suppose all household incomes in California increase by $5,000. How does that change the interquartile range of the household incomes?\n",
    "\n",
    "\n",
    "the interquartile range of the household incomes goes up by $5,000 \n",
    "the interquartile range of the household incomes doesn't change -- ANSWER // kapag changed by constant hindi nagbabago, same sa Standard Deviation\n",
    "cannot be determined from the information given"
   ]
  },
  {
   "cell_type": "code",
   "execution_count": 178,
   "id": "c3435a79-8d8f-4d85-a799-0f9afc351d0a",
   "metadata": {
    "jupyter": {
     "source_hidden": true
    }
   },
   "outputs": [
    {
     "name": "stdout",
     "output_type": "stream",
     "text": [
      "Data interquartile range:  7.0\n",
      "Increased Data interquartile range:  7.0\n"
     ]
    }
   ],
   "source": [
    "data = pd.Series(numbers) #using pandas\n",
    "increased_data =pd.Series(num + 30 for num in numbers)\n",
    "\n",
    "# Calculate Q1 and Q3\n",
    "Q1 = data.quantile(0.25)\n",
    "Q3 = data.quantile(0.75)\n",
    "IQR = Q3 - Q1\n",
    "print(\"Data interquartile range: \", IQR)\n",
    "\n",
    "incQ1 = increased_data.quantile(0.25)\n",
    "incQ3 = increased_data.quantile(0.75)\n",
    "increased_data_IQR = incQ3 - incQ1\n",
    "print (\"Increased Data interquartile range: \",increased_data_IQR)"
   ]
  },
  {
   "cell_type": "markdown",
   "id": "0bbf66cd-729c-4242-8e90-f48f337d89ab",
   "metadata": {},
   "source": [
    "The median sales price for houses in a certain county during the last year was $342,000. What can we say about the percentage of sales represented by the houses that sold for more than $342,000?\n",
    "\n",
    "\n",
    "the houses that sold for more than $342,000 represent more than 50% of all sales\n",
    "the houses that sold for more than $342,000 represent exactly 50% of all sales -- ANSWER -- ANSWER -- ANSWER -- ANSWER\n",
    "the houses that sold for more than $342,000 represent less than 50% of all sales\n"
   ]
  }
 ],
 "metadata": {
  "kernelspec": {
   "display_name": "Python 3 (ipykernel)",
   "language": "python",
   "name": "python3"
  },
  "language_info": {
   "codemirror_mode": {
    "name": "ipython",
    "version": 3
   },
   "file_extension": ".py",
   "mimetype": "text/x-python",
   "name": "python",
   "nbconvert_exporter": "python",
   "pygments_lexer": "ipython3",
   "version": "3.12.4"
  }
 },
 "nbformat": 4,
 "nbformat_minor": 5
}
