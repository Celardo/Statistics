{
 "cells": [
  {
   "cell_type": "code",
   "execution_count": 6,
   "id": "2d31ee08-0144-4000-b76c-5eda55f2f0a0",
   "metadata": {},
   "outputs": [],
   "source": [
    "import math\n",
    "import statistics as stat"
   ]
  },
  {
   "cell_type": "code",
   "execution_count": 14,
   "id": "8e629af8-8246-4648-a64d-40e5f0f4c07c",
   "metadata": {},
   "outputs": [
    {
     "name": "stdout",
     "output_type": "stream",
     "text": [
      "26.25\n"
     ]
    }
   ],
   "source": [
    "numbers = [2, 15, 33, 55]\n",
    "print(stat.mean(numbers))"
   ]
  },
  {
   "cell_type": "code",
   "execution_count": null,
   "id": "f0923c8d-1d85-49cf-9db0-fcf2a400c5f2",
   "metadata": {},
   "outputs": [],
   "source": []
  }
 ],
 "metadata": {
  "kernelspec": {
   "display_name": "Python 3 (ipykernel)",
   "language": "python",
   "name": "python3"
  },
  "language_info": {
   "codemirror_mode": {
    "name": "ipython",
    "version": 3
   },
   "file_extension": ".py",
   "mimetype": "text/x-python",
   "name": "python",
   "nbconvert_exporter": "python",
   "pygments_lexer": "ipython3",
   "version": "3.12.4"
  }
 },
 "nbformat": 4,
 "nbformat_minor": 5
}
