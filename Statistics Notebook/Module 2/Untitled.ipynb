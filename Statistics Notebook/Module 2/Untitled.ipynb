{
 "cells": [
  {
   "cell_type": "markdown",
   "id": "4fff8eae-737a-4dd6-a734-840285da72d1",
   "metadata": {},
   "source": [
    "A good experiment requires that the subjects are assigned to treatment or control by a random process\n",
    "\n",
    "confounders operate equally on both groups\n",
    "\n",
    "Of course, since we are using a random assignment, there's a chance that one confounder is more prevalent in one group than the other.\n",
    "\n",
    "But here's the second key point. Because we use a random assignment, we can actually calculate the size of these chance effects when we evaluate the outcome of the experiment."
   ]
  }
 ],
 "metadata": {
  "kernelspec": {
   "display_name": "Python 3 (ipykernel)",
   "language": "python",
   "name": "python3"
  },
  "language_info": {
   "codemirror_mode": {
    "name": "ipython",
    "version": 3
   },
   "file_extension": ".py",
   "mimetype": "text/x-python",
   "name": "python",
   "nbconvert_exporter": "python",
   "pygments_lexer": "ipython3",
   "version": "3.12.4"
  }
 },
 "nbformat": 4,
 "nbformat_minor": 5
}
