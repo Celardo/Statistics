{
  "metadata": {
    "kernelspec": {
      "name": "python",
      "display_name": "Python (Pyodide)",
      "language": "python"
    },
    "language_info": {
      "codemirror_mode": {
        "name": "python",
        "version": 3
      },
      "file_extension": ".py",
      "mimetype": "text/x-python",
      "name": "python",
      "nbconvert_exporter": "python",
      "pygments_lexer": "ipython3",
      "version": "3.8"
    }
  },
  "nbformat_minor": 4,
  "nbformat": 4,
  "cells": [
    {
      "cell_type": "markdown",
      "source": "Four Basic Rules\nProbabilities are always between 0 and 1. Computing probabilities comes down to applying a few basic rules repeatedly:\n\n    We saw that P(newborn is a girl) = 48.8%\n    Therefore   P(newborn is a boy ) = 51.2%\n\n    More formally, write A for an event, such as A = 'newborn is a girl'.\n    Complement rule: P(A does not occur) = 1 - P(A)\n\n    Now let's look at a different chance expriment: Rolling a die\n\n    Since each of its six faces is equally likely to come up, each has probability 1/6.\n\n    Rule for equally likely outcomes: If there are n possible outcomes and they are equally like, then the probability of an event A is the P(A) =  [(number of outcomes in A) / n ]",
      "metadata": {}
    },
    {
      "cell_type": "markdown",
      "source": "Question:\nYou are playing cards with your friend. You need to pick the next card from anywhere in the deck to continue. What rule is useful in this situation?\n\nComplement rule\nRule for equally likely outcomes --- CORRECT\nAddition rule of mutually exclusive events.",
      "metadata": {}
    },
    {
      "cell_type": "markdown",
      "source": "The next two rules make it possible to express probabilities of multiple events as those of the individual events.\n\nA and B are mutually exclusive if they cannot occur at the same time.\n\nAs an example, we roll a die twice.\nA = 1 on first roll, B= 6 on first roll, C= 1 on Second roll\n\nAnd B are mutually exclusive, but A and C are not.\n\nAddition rule:\n                If A and B are mutually exclusive, then\n                P(A or B) = P(A) + P(B)\n\nTwo events are independent if knowing that one occurs does not change the probability that the other occurs.\nIn the above example: B and C are independent, but A and B are not.\n    B concerns the first roll\n    C concerns the second roll\n    the outcome of the second roll doesnt depend on the outcome of the first roll\n\nMultiplication Rule:\n                    If A and B are independent, then\n                    P(A and B) = P(A)P(B)",
      "metadata": {}
    },
    {
      "cell_type": "markdown",
      "source": "Question:\nWhat can be said about mutually exclusive events?\n\nThe probability of both events happening at the same time is zero. -CORRECT\nThey cannot occur at the same time. -CORRECT\nA good example is flipping a coin. -CORRECT",
      "metadata": {}
    },
    {
      "cell_type": "markdown",
      "source": "HOW TO DEAL WITH \"AT LEAST ONE\"\nRoll a die three times. What is P(at least one 6)?\n\nWe could write 'at least one 6' as follows:\n\n6 on first roll or 6 on second roll or 6 on third roll\n\nBut these three events are NOT mutually exclusive, so we can't use the addition rule.\n\nBetter way: Start with the complement rule.\nP(at least one 6 in three rolls) = 1-P(no 6 in three rolls)\n= 1-P((no 6 in first roll) and (no 6 in second roll) and (no 6 in third roll))\n= 1-P((no 6 in first roll) x (no 6 in second roll) x (no 6 in third roll))\n=1 - 5/6 x 5/6 x 5/6\n= 41.4%\n",
      "metadata": {}
    }
  ]
}