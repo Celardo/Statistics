{
 "cells": [
  {
   "cell_type": "markdown",
   "id": "1682ec62-2451-40f2-97d4-3fea9bdbc5ae",
   "metadata": {},
   "source": [
    "Bias and chance error\n",
    "Since the sample is drawn at random, the estimate will be different from the parameter due to chance error. Drawing another sample will result in a different chance error\n",
    "\n",
    "estimate = parameter + bias + chance error\n",
    "\n",
    "chance error - unavoidable\n",
    "The chance error (sampling error) will get samller as the sample size gets bigger. Moreover, we can compute how large the chance error will be.\n",
    "\n",
    "NOT the same case for the bias (systematic error):\n",
    "Increasing the sample size just repeats the error on a larger scale, and typically we don't know how large the bias is."
   ]
  },
  {
   "cell_type": "markdown",
   "id": "b84195c9-956e-4cd6-8abb-be7e29061a0e",
   "metadata": {},
   "source": [
    "QUESTION:\n",
    "What should we take into consideration when making an estimate?\n",
    "\n",
    "\n",
    "It should be close to the parameter.\n",
    "Correct\n",
    "\n",
    "We should be aware of possible bias.\n",
    "Correct\n",
    "\n",
    "We should be aware of the unavoidable chance error. \n",
    "Correct"
   ]
  },
  {
   "cell_type": "markdown",
   "id": "292c0abb-0714-4c24-9a44-4447a4409320",
   "metadata": {},
   "source": [
    "QUESTION:\n",
    "What size of data would likely result in a large chance (sampling) error?\n",
    "\n",
    "Small - CORRECT\n",
    "Large"
   ]
  },
  {
   "cell_type": "code",
   "execution_count": null,
   "id": "6fd22663-c87b-47a0-9eb6-6c644631068a",
   "metadata": {},
   "outputs": [],
   "source": []
  }
 ],
 "metadata": {
  "kernelspec": {
   "display_name": "Python 3 (ipykernel)",
   "language": "python",
   "name": "python3"
  },
  "language_info": {
   "codemirror_mode": {
    "name": "ipython",
    "version": 3
   },
   "file_extension": ".py",
   "mimetype": "text/x-python",
   "name": "python",
   "nbconvert_exporter": "python",
   "pygments_lexer": "ipython3",
   "version": "3.12.4"
  }
 },
 "nbformat": 4,
 "nbformat_minor": 5
}
