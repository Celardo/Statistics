{
 "cells": [
  {
   "cell_type": "markdown",
   "id": "ffb4a209-e3e2-411c-8e1a-c83ea4ed47df",
   "metadata": {},
   "source": [
    "Observational studies\n",
    "People who eat red meat have higher rates of certain cancers than people who don't eat red meat\n",
    "    *This means that there is an association between red meat consumption and cancer: there is\n",
    "     link between these two.\n",
    "    *But this does not mean that eatubg red meat causes cancer: people who don't eat red meat are known to exercise more and drink less alcohol, and it could be the latter two issues that cause the difference in cancer rates.\n",
    "\n",
    "    There is an observational study: It measures outcomes of interest and this can be used to establish association.\n",
    "\n",
    "    But association is not causation, because there may be confounding factors such as exercise\n",
    "    that are associated both with red meat consumption and cancer."
   ]
  },
  {
   "cell_type": "markdown",
   "id": "708d6d8d-7974-425c-95e3-9ac88c85ed88",
   "metadata": {},
   "source": [
    "What we would really like to know if red meat actually causes cancer. For that we need experiment\n",
    "\n",
    "A treatment(eating red meat) is assigned to people in treatment group but not to people in the\n",
    "control group\n",
    "\n",
    "Compare the outcomes of the two groups\n",
    "To rule out confounders, both groups should be similar, apart from the treatment\n",
    "    The subjects are assigne into treatment and control groups at random\n",
    "        For each subject, toss a coin whether they go treatment or control\n",
    "\n",
    "Placebo\n",
    "every subject in the control group gets a placebo, similar to treatment but doesnt do anything\n",
    "The idea of being treated may have an effect by itself\n",
    "\n",
    "The experiment should be Double-Blind\n",
    "    Neither the subject nor the evaluators know which subjects are assigned to the treatment, and which are assigned to control"
   ]
  },
  {
   "cell_type": "markdown",
   "id": "45ee91d6-0d0a-4559-a6bd-3429fd01feb9",
   "metadata": {},
   "source": [
    "QUESTION:\n",
    "What is placebo?\n",
    "\n",
    "A substance that has a neutral effect and which the subject cannot distinguish from the treatment. It is assigned to the control group. ---- CORRRECCT CORREECT CORRECEATAT\r",
    "\r\n",
    "\r\n",
    "A substance of the treatment that has a measurable effect. It is assigned to both the control and treatment grou.\r\n",
    "\r\n",
    "\r\n",
    "A substance that has a neutral effect. It is assigned to the treatment goup.\r\n",
    "\r\n",
    "\r\n",
    "None of t above.\r\n",
    "\r\n"
   ]
  }
 ],
 "metadata": {
  "kernelspec": {
   "display_name": "Python 3 (ipykernel)",
   "language": "python",
   "name": "python3"
  },
  "language_info": {
   "codemirror_mode": {
    "name": "ipython",
    "version": 3
   },
   "file_extension": ".py",
   "mimetype": "text/x-python",
   "name": "python",
   "nbconvert_exporter": "python",
   "pygments_lexer": "ipython3",
   "version": "3.12.4"
  }
 },
 "nbformat": 4,
 "nbformat_minor": 5
}
