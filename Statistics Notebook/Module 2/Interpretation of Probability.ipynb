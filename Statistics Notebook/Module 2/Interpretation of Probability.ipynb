{
  "metadata": {
    "kernelspec": {
      "name": "python",
      "display_name": "Python (Pyodide)",
      "language": "python"
    },
    "language_info": {
      "codemirror_mode": {
        "name": "python",
        "version": 3
      },
      "file_extension": ".py",
      "mimetype": "text/x-python",
      "name": "python",
      "nbconvert_exporter": "python",
      "pygments_lexer": "ipython3",
      "version": "3.8"
    }
  },
  "nbformat_minor": 4,
  "nbformat": 4,
  "cells": [
    {
      "cell_type": "markdown",
      "source": "What is probability?\n\nIn 2015 there were about 4 million born in the US, and 48.8% of the newborns were girls\n\nWe write: P(newborn is a girl) = 48.8%\n\nThe probability of an event is defined as the proportion of times this event occurs in many repititions\n\nThis is the standard definition of probablity. It requires that it is possible to repeat this chance experiment many times.\n\nWhile interned during the Second World War, John Kerrich tossed a coin on 10,000 times and observed 5,067 tosses resulting in heads.\n\nThe long-run interpretation of probability can make it difficult to interpret it for single event:\n    'What I was wrong about this year' by David Leonhardt(12/24/2017)\n\nSometimes people use a different interpretation:\n    \"The probability that my best friend calls today is 30%,\" \n    then this statement clearly cannot be interpreted as a long-run frequency because today, the particular circumstances of today happened only once. So, what this person means is there's simply a subjective feeling of 30% that this event will happen. So, this is called a subjective probability. It's not based on experiments, and different people may assign different probabilities to the same event.",
      "metadata": {}
    }
  ]
}