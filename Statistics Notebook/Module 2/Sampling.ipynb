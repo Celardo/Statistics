{
 "cells": [
  {
   "cell_type": "code",
   "execution_count": null,
   "id": "cf145cfa-3dfa-4224-acdc-f06596e5d5ce",
   "metadata": {},
   "outputs": [],
   "source": [
    "Sampling Correctly is very important"
   ]
  },
  {
   "cell_type": "markdown",
   "id": "91528643-21d5-4fea-8a64-f5b6079eec11",
   "metadata": {},
   "source": [
    "Example of: sample of convenience\n",
    "    To sample 1000 voters in your hometown\n",
    "        This is not a good way to sample because the voters will be different from the population \n",
    "        U.S. voters\n",
    "        This will introduce a bias, i.e. this sampling will favor a certain outcome\n",
    "\n",
    "selection bias: a sample of convenience makes it more likely to sample ceratin subjects than others\n",
    "\n",
    "non-response bias: parents are less likely to answer a survey request at 6pm because they are busy with children and dinner.\n",
    "\n",
    "voluntary response bias: websites that post reviews of businesses are more likely to get responses from customers who had very bad or very good experiences\n"
   ]
  },
  {
   "cell_type": "markdown",
   "id": "67bdc574-a55f-4a12-9c41-dabec6e88f33",
   "metadata": {},
   "source": [
    "QUESTION:\n",
    "Imagine you are working for a large retail company. You would like to see how your customers like the new product your company launched a month ago. Your colleague suggests that you can go to a shopping center in the weekend to collect the reviews. What bias(es) could result from this decision?\n",
    "\n",
    "Selection bias - Correctct\r\n",
    "That's correct. You will collect reviews from customers who are present in the specific shopping center, but your customers are likely in many other places, potentially having completely different experiences (e.g. shopping online or in some other states or a country). \r\n",
    "\r\n",
    "\r\n",
    "Non-respons - Correct\n",
    "Correct\r\n",
    "That's correct too. You will likely get a portion of population who spends at least part of that particular weekend in the shopping center.\r\n",
    "\r\n",
    "\r\n",
    "Voluntary r - Correctias\r\n",
    "\r\n",
    "Correct\r\n",
    "That's correct too. If you are not careful, you might get only reviews from customers who had very good or very ba\n",
    "d experiences. "
   ]
  },
  {
   "cell_type": "markdown",
   "id": "ebc2eb5f-e222-41dd-a65a-2a5702f917e9",
   "metadata": {},
   "source": [
    "THE BEST METHODS FOR SAMPLING AND AVOIDING SUCH BIASES\n",
    "    is to use chance is some planned way:\n",
    "\n",
    "    Simple random sampling - it selects subjects at random without replacement\n",
    "    How would one choose a simple random sampling:\n",
    "        - using random digit dialing, it means a computer will dial a telephone at random\n",
    "\n",
    "    Stratified random sampling - divides the population into groups of similar subjects called\n",
    "    strata (e.g. urban, suburban, and rural voters). then a SIMPLE RANDOM SAMPLE is chosen in each stratum and the results are combined. THIS SAMPLING can result in a more precise estimate than with simple random sampling\n",
    "\n",
    "    "
   ]
  }
 ],
 "metadata": {
  "kernelspec": {
   "display_name": "Python 3 (ipykernel)",
   "language": "python",
   "name": "python3"
  },
  "language_info": {
   "codemirror_mode": {
    "name": "ipython",
    "version": 3
   },
   "file_extension": ".py",
   "mimetype": "text/x-python",
   "name": "python",
   "nbconvert_exporter": "python",
   "pygments_lexer": "ipython3",
   "version": "3.12.4"
  }
 },
 "nbformat": 4,
 "nbformat_minor": 5
}
