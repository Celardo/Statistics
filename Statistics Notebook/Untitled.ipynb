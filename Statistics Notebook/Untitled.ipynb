{
 "cells": [
  {
   "cell_type": "code",
   "execution_count": null,
   "id": "e757636c-e51f-44ed-9c86-917f465d92d0",
   "metadata": {},
   "outputs": [],
   "source": [
    "import math\n",
    "import statistics as stat\n",
    "\n",
    "numbers = [3, 7, 2, 11, 1000, 4]"
   ]
  },
  {
   "cell_type": "code",
   "execution_count": 13,
   "id": "5abfd9f9-bc72-4f6a-9de7-ac6cda161b26",
   "metadata": {},
   "outputs": [
    {
     "name": "stdout",
     "output_type": "stream",
     "text": [
      "4.552008171281623\n"
     ]
    }
   ],
   "source": [
    "print(stat.harmonic_mean(numbers))"
   ]
  },
  {
   "cell_type": "code",
   "execution_count": 15,
   "id": "f7345919-d321-4dbb-94a1-ddfb6246ced6",
   "metadata": {},
   "outputs": [
    {
     "name": "stdout",
     "output_type": "stream",
     "text": [
      "4.552008171281624\n"
     ]
    }
   ],
   "source": [
    "print(len(numbers)/sum(1/x for x in numbers))"
   ]
  },
  {
   "cell_type": "code",
   "execution_count": null,
   "id": "9270ad5c-f0a5-4234-8c63-9ee17aaaf79f",
   "metadata": {},
   "outputs": [],
   "source": []
  },
  {
   "cell_type": "code",
   "execution_count": null,
   "id": "92ffd260-a1e3-4cd9-ba5e-60f98ffcf0fc",
   "metadata": {},
   "outputs": [],
   "source": []
  }
 ],
 "metadata": {
  "kernelspec": {
   "display_name": "Python 3 (ipykernel)",
   "language": "python",
   "name": "python3"
  },
  "language_info": {
   "codemirror_mode": {
    "name": "ipython",
    "version": 3
   },
   "file_extension": ".py",
   "mimetype": "text/x-python",
   "name": "python",
   "nbconvert_exporter": "python",
   "pygments_lexer": "ipython3",
   "version": "3.12.4"
  }
 },
 "nbformat": 4,
 "nbformat_minor": 5
}
