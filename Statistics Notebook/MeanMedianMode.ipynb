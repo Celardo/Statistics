{
 "cells": [
  {
   "cell_type": "code",
   "execution_count": null,
   "id": "53ffd262-2dce-4775-8ada-b0ca2a42bbb8",
   "metadata": {},
   "outputs": [],
   "source": [
    "import numpy as np\n",
    "import matplotlib.pyplot as plt\n"
   ]
  },
  {
   "cell_type": "markdown",
   "id": "50d58f66-8eb2-4435-a27f-f99a8d59deca",
   "metadata": {},
   "source": [
    "Numerical summary measures\n",
    "\n",
    "For summarizig data with one number\n",
    "    use the mean (=average)\n",
    "    or the median (the 50th percentile, 2nd quartile)\n",
    "\n",
    "\n",
    "The median (midpoint) is the number that is larger than half the data and smaller than the other half\n",
    "    REMEMBER that in histogram the area corresponds to percentage\n",
    "    We can find the median where half the AREA below and half the AREA below'\n",
    "    If histogram is symmetric, then the mean and median are the same\n",
    "\n",
    "When historam is skewed to the right, then the mean can be much larger than the median.\n",
    "\n",
    "\n",
    "Mean vs. Median\n",
    "If the median sales price of 10 homes is 1 million dollar, then we know that 5 homes sold for 1 million or more\n",
    "\n",
    "If we are told that the average sale price is 1 million dollar, then we cant draw such a conclusion"
   ]
  },
  {
   "cell_type": "markdown",
   "id": "dce13050-6171-4d27-80c0-4afdfc79c55d",
   "metadata": {},
   "source": [
    "boxplot gives a five-number summary\n",
    "\n",
    "Interquartile range -the range between 3rd quartile and 1st quartile\n",
    "    It measures how spread out the data are"
   ]
  },
  {
   "cell_type": "markdown",
   "id": "bcee15d9-a89d-4b5a-8722-416d733d213f",
   "metadata": {},
   "source": [
    "The Standard Deviartion\n",
    "A more commonly used measure of spread\n",
    "What it does\n",
    "It looks at the difference of each number from its average, squares the difference, and then\n",
    "looks at the average of those square differences, and finally takes the square root"
   ]
  },
  {
   "cell_type": "markdown",
   "id": "d6ff1b2d-a357-460f-a86b-2d89917b1f5d",
   "metadata": {},
   "source": [
    "$  s = \\sqrt{{\\frac{1}{n}} {\\sum_{i=1}^n} (x_i - \\bar{x})^2}  $ or $ \\sqrt{{\\frac{1}{n-1}} {\\sum_{i=1}^n} (x_i - \\bar{x})^2} $"
   ]
  },
  {
   "cell_type": "markdown",
   "id": "b1127831-27f7-464f-8a64-566185f31975",
   "metadata": {},
   "source": [
    "The two numbers $ \\bar{x} $ and $ s $ are often used to summarize data. Both are sensitive to a few large or small data.\n",
    "If that is a concern, use the median anwd the interquartile range."
   ]
  },
  {
   "cell_type": "code",
   "execution_count": null,
   "id": "96a59129-6529-48be-8ee3-1369ec213806",
   "metadata": {},
   "outputs": [],
   "source": []
  }
 ],
 "metadata": {
  "kernelspec": {
   "display_name": "Python 3 (ipykernel)",
   "language": "python",
   "name": "python3"
  },
  "language_info": {
   "codemirror_mode": {
    "name": "ipython",
    "version": 3
   },
   "file_extension": ".py",
   "mimetype": "text/x-python",
   "name": "python",
   "nbconvert_exporter": "python",
   "pygments_lexer": "ipython3",
   "version": "3.12.4"
  }
 },
 "nbformat": 4,
 "nbformat_minor": 5
}
